{
 "cells": [
  {
   "cell_type": "code",
   "execution_count": 14,
   "id": "aa683665",
   "metadata": {},
   "outputs": [
    {
     "name": "stdout",
     "output_type": "stream",
     "text": [
      "Twinkle,Twinkle,little star,\n",
      "        How I wonder what you are!\n",
      "                Up above the world so high,\n",
      "                Like a diamond in the sky.\n",
      "Twinkle,twinkle,little star,\n",
      "        How I wonder what you are\n"
     ]
    }
   ],
   "source": [
    "\"\"\"Task # 1\"\"\"\n",
    "\n",
    "print('''Twinkle,Twinkle,little star,\n",
    "        How I wonder what you are!\n",
    "                Up above the world so high,\n",
    "                Like a diamond in the sky.\n",
    "Twinkle,twinkle,little star,\n",
    "        How I wonder what you are''')"
   ]
  },
  {
   "cell_type": "code",
   "execution_count": null,
   "id": "440cb021",
   "metadata": {},
   "outputs": [],
   "source": [
    "\"\"\"Task # 2\"\"\"\n",
    "\n",
    "print(sys.version)"
   ]
  },
  {
   "cell_type": "code",
   "execution_count": 1,
   "id": "833afed1",
   "metadata": {
    "scrolled": false
   },
   "outputs": [
    {
     "name": "stdout",
     "output_type": "stream",
     "text": [
      "Current date and time : \n",
      "2021-10-24 02:23:38\n"
     ]
    }
   ],
   "source": [
    "\"\"\"Task # 3\"\"\"\n",
    "\n",
    "import datetime\n",
    "now = datetime.datetime.now()\n",
    "print (\"Current date and time : \")\n",
    "print (now.strftime(\"%Y-%m-%d %H:%M:%S\"))"
   ]
  },
  {
   "cell_type": "code",
   "execution_count": 5,
   "id": "6494ef2c",
   "metadata": {},
   "outputs": [
    {
     "name": "stdout",
     "output_type": "stream",
     "text": [
      "Enter the radius of the circle.2\n",
      "The area of the circle is:  12.56\n"
     ]
    }
   ],
   "source": [
    "\"\"\"Task # 4\"\"\"\n",
    "\n",
    "radius = int(input(\"Enter the radius of the circle.\"))\n",
    "area = 3.14 * (radius ** 2);\n",
    "print(\"The area of the circle is: \",area);"
   ]
  },
  {
   "cell_type": "code",
   "execution_count": 9,
   "id": "28c01a0a",
   "metadata": {},
   "outputs": [
    {
     "name": "stdout",
     "output_type": "stream",
     "text": [
      "Your first name: Aun\n",
      "Your last name: Syed\n",
      "Syed  Aun\n"
     ]
    }
   ],
   "source": [
    "\"\"\"Task # 5\"\"\"\n",
    "\n",
    "fname = input(\"Your first name: \");\n",
    "lname = input(\"Your last name: \");\n",
    "print(lname,\"\",fname);"
   ]
  },
  {
   "cell_type": "code",
   "execution_count": 11,
   "id": "493a1b75",
   "metadata": {},
   "outputs": [
    {
     "name": "stdout",
     "output_type": "stream",
     "text": [
      "Number 1: 3\n",
      "Number 2: 3\n",
      "The addition of inp1 and inp2 is: 6\n"
     ]
    }
   ],
   "source": [
    "\"\"\"Task # 6\"\"\"\n",
    "\n",
    "inp1 = int(input(\"Number 1: \"));\n",
    "inp2 = int(input(\"Number 2: \"));\n",
    "num = inp1 + inp2;\n",
    "print(\"The addition of inp1 and inp2 is:\",num);"
   ]
  },
  {
   "cell_type": "code",
   "execution_count": 3,
   "id": "a59774eb",
   "metadata": {},
   "outputs": [
    {
     "name": "stdout",
     "output_type": "stream",
     "text": [
      "Marks obtained in subject of Maths:105\n",
      "Marks obtained in subject of English:10\n",
      "Marks obtained in subject of Islamiyat:1222\n",
      "Marks obtained in subject of Science:0\n",
      "Marks obtained in subject of Computer:0\n",
      "You Failed!\n"
     ]
    }
   ],
   "source": [
    "\"\"\"Task # 7\"\"\"\n",
    "\n",
    "total = 500;\n",
    "\n",
    "mhs = float(input(\"Marks obtained in subject of Maths:\"));\n",
    "eng = float(input(\"Marks obtained in subject of English:\"));\n",
    "isl = float(input(\"Marks obtained in subject of Islamiyat:\"));\n",
    "sci = float(input(\"Marks obtained in subject of Science:\"));\n",
    "cmp = float(input(\"Marks obtained in subject of Computer:\"));\n",
    "\n",
    "obTotal = mhs + eng + isl + sci + cmp;\n",
    "\n",
    "prc = (obTotal / total) * 100;\n",
    "\n",
    "if(prc > 80 and prc < 100):\n",
    "    print(\"A Grade!\");\n",
    "    \n",
    "elif prc > 70 and prc < 80:\n",
    "    print(\"B Grade!\");\n",
    "        \n",
    "elif (prc < 70 and prc > 60):\n",
    "    print(\"C Grade!\");\n",
    "        \n",
    "elif (prc < 60 and prc > 50):\n",
    "    print(\"D Grade!\");\n",
    "        \n",
    "elif (prc > 100 and prc < 0):\n",
    "    print(\"Invalid!\");\n",
    "    \n",
    "else:\n",
    "    print(\"You Failed!\");\n",
    "\n",
    "\n"
   ]
  },
  {
   "cell_type": "code",
   "execution_count": 6,
   "id": "019cf4c1",
   "metadata": {},
   "outputs": [
    {
     "name": "stdout",
     "output_type": "stream",
     "text": [
      "Enter a number: 13\n",
      "Number is Odd\n"
     ]
    }
   ],
   "source": [
    "\"\"\"Task # 8\"\"\"\n",
    "\n",
    "inp = int(input(\"Enter a number: \"));\n",
    "\n",
    "if (inp % 2 == 0):\n",
    "    print(\"Number is Even\");\n",
    "else:\n",
    "    print(\"Number is Odd\");"
   ]
  },
  {
   "cell_type": "code",
   "execution_count": 2,
   "id": "3c543774",
   "metadata": {},
   "outputs": [
    {
     "name": "stdout",
     "output_type": "stream",
     "text": [
      "The length of the list is:  4\n"
     ]
    }
   ],
   "source": [
    "\"\"\"Task # 9\"\"\"\n",
    "\n",
    "arr = [1,2,3,4];\n",
    "print(\"The length of the list is: \",len(arr));"
   ]
  },
  {
   "cell_type": "code",
   "execution_count": 5,
   "id": "51cebdd4",
   "metadata": {},
   "outputs": [
    {
     "name": "stdout",
     "output_type": "stream",
     "text": [
      "The sum of the list is:  10\n"
     ]
    }
   ],
   "source": [
    "\"\"\"Task # 10\"\"\"\n",
    "\n",
    "arr = [1,2,3,4];\n",
    "print(\"The sum of the list is: \",sum(arr));"
   ]
  },
  {
   "cell_type": "code",
   "execution_count": 7,
   "id": "407ab667",
   "metadata": {},
   "outputs": [
    {
     "name": "stdout",
     "output_type": "stream",
     "text": [
      "The larget number of the list is:  4\n"
     ]
    }
   ],
   "source": [
    "\"\"\"Task # 11\"\"\"\n",
    "\n",
    "arr = [1,2,3,4];\n",
    "print(\"The larget number of the list is: \",max(arr));"
   ]
  },
  {
   "cell_type": "code",
   "execution_count": 9,
   "id": "c96283f6",
   "metadata": {},
   "outputs": [
    {
     "name": "stdout",
     "output_type": "stream",
     "text": [
      "1\n",
      "1\n",
      "2\n",
      "3\n"
     ]
    }
   ],
   "source": [
    "\"\"\"Task # 12\"\"\"\n",
    "\n",
    "arr = [1, 1, 2, 3, 5, 8, 13, 21, 34, 55, 89]\n",
    "\n",
    "for item in arr:\n",
    "    if item < 5:\n",
    "        print(item);\n",
    "        "
   ]
  },
  {
   "cell_type": "code",
   "execution_count": null,
   "id": "37efc2f4",
   "metadata": {},
   "outputs": [],
   "source": []
  }
 ],
 "metadata": {
  "kernelspec": {
   "display_name": "Python 3 (ipykernel)",
   "language": "python",
   "name": "python3"
  },
  "language_info": {
   "codemirror_mode": {
    "name": "ipython",
    "version": 3
   },
   "file_extension": ".py",
   "mimetype": "text/x-python",
   "name": "python",
   "nbconvert_exporter": "python",
   "pygments_lexer": "ipython3",
   "version": "3.9.2"
  }
 },
 "nbformat": 4,
 "nbformat_minor": 5
}
